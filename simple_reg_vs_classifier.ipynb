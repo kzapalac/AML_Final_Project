{
 "cells": [
  {
   "cell_type": "code",
   "execution_count": 1,
   "metadata": {},
   "outputs": [],
   "source": [
    "import pandas as pd\n",
    "import numpy as np\n",
    "import matplotlib.pyplot as plt\n",
    "import seaborn as sns"
   ]
  },
  {
   "cell_type": "code",
   "execution_count": 2,
   "metadata": {},
   "outputs": [],
   "source": [
    "# read survey\n",
    "data_dictionary = pd.read_csv('data_dictionary.csv')\n",
    "train_data = pd.read_csv('train.csv')\n",
    "test_data = pd.read_csv('test.csv')\n",
    "\n",
    "# read aggregated actigraphy\n",
    "actigraphy_data = pd.read_csv('PA_data.csv', index_col=0)"
   ]
  },
  {
   "cell_type": "code",
   "execution_count": 3,
   "metadata": {},
   "outputs": [
    {
     "name": "stdout",
     "output_type": "stream",
     "text": [
      "1863 rows dropped because 50% or more of the data was missing.\n",
      "There are 2097 rows remaining in the train data.\n",
      "This is the proportion of data available per feature. It might be wise to drop features with high missingness. We can try both ways though.\n"
     ]
    },
    {
     "data": {
      "text/plain": [
       "Physical-Waist_Circumference              0.249881\n",
       "Fitness_Endurance-Total_Time_sec          0.311874\n",
       "vigorous                                  0.384835\n",
       "moderate                                  0.395327\n",
       "light                                     0.395804\n",
       "sendentary                                0.395804\n",
       "FGC-FGC_GSND                              0.405341\n",
       "FGC-FGC_GSD                               0.405818\n",
       "PAQ-PAQ_Total                             0.646161\n",
       "CGAS-CGAS_Score                           0.820219\n",
       "SDS-SDS_Total_T                           0.842632\n",
       "FGC-FGC_PU                                0.855508\n",
       "FGC-FGC_SRL                               0.855508\n",
       "FGC-FGC_SRR                               0.856462\n",
       "FGC-FGC_CU                                0.859323\n",
       "FGC-FGC_TL                                0.859800\n",
       "sii                                       0.919409\n",
       "BIA-BIA_SMM                               0.944206\n",
       "BIA-BIA_LST                               0.944206\n",
       "BIA-BIA_LDM                               0.944206\n",
       "BIA-BIA_ICW                               0.944206\n",
       "BIA-BIA_TBW                               0.944206\n",
       "BIA-BIA_Fat                               0.944206\n",
       "BIA-BIA_FMI                               0.944206\n",
       "BIA-BIA_FFMI                              0.944206\n",
       "BIA-BIA_BMR                               0.944206\n",
       "BIA-BIA_ECW                               0.944206\n",
       "BIA-BIA_DEE                               0.944206\n",
       "BIA-BIA_BMI                               0.944206\n",
       "BIA-BIA_BMC                               0.944206\n",
       "BIA-BIA_FFM                               0.944206\n",
       "BIA-BIA_Frame_num                         0.944683\n",
       "BIA-BIA_Activity_Level_num                0.944683\n",
       "PreInt_EduHx-computerinternet_hoursday    0.968050\n",
       "Physical-Diastolic_BP                     0.978064\n",
       "Physical-Systolic_BP                      0.978064\n",
       "Physical-HeartRate                        0.980925\n",
       "Physical-Weight                           0.993324\n",
       "Physical-BMI                              0.993324\n",
       "Physical-Height                           0.994278\n",
       "Basic_Demos-Sex                           1.000000\n",
       "Basic_Demos-Age                           1.000000\n",
       "id                                        1.000000\n",
       "dtype: float64"
      ]
     },
     "metadata": {},
     "output_type": "display_data"
    },
    {
     "name": "stdout",
     "output_type": "stream",
     "text": [
      "Final length of the training dataset: 1928\n"
     ]
    }
   ],
   "source": [
    "# Outliers ----------------------------------------------------------------------------\n",
    "# removing outliers (should change this to be automatic so it applies to the test data)\n",
    "# From CGAS\n",
    "train_data.loc[2065, 'CGAS-CGAS_Score'] = 99\n",
    "# From BIA (there might still be some suspicious extreme values)\n",
    "cols = data_dictionary.loc[(data_dictionary['Instrument'] == 'Bio-electric Impedance Analysis') & (data_dictionary['Type'] == 'float'), 'Field']\n",
    "train_data.loc[[3205, 3511], cols] = np.nan # remove 3511 and 3205's BIA values because they seem wrong. They have normal heights and weights but extreme values for BIA measures\n",
    "\n",
    "# Drop features ----------------------------------------------------------------------\n",
    "# combine FitnessGram Minutes and seconds\n",
    "train_data['Fitness_Endurance-Total_Time_sec'] = train_data['Fitness_Endurance-Time_Mins'] * 60 + train_data['Fitness_Endurance-Time_Sec'] # remove remaining Fitness_Endurance Columns\n",
    "# drop all PCIAT columns, any column that ends in -Season, FitnessGram Zones, remaining Fitness_Endurance columns, and redundant SDS column\n",
    "columns_to_drop = [col for col in train_data.columns if col.startswith('PCIAT') or col.endswith('Season') or col.endswith('Zone')]\n",
    "columns_to_drop.extend(['Fitness_Endurance-Max_Stage', 'Fitness_Endurance-Time_Sec', 'Fitness_Endurance-Time_Mins', 'SDS-SDS_Total_Raw'])\n",
    "train_data_cleaned = train_data.drop(columns=columns_to_drop)\n",
    "\n",
    "# merge PAQ_A and PAQ_C\n",
    "# keep adolescent value if 13 or older\n",
    "train_data_cleaned.loc[train_data_cleaned['PAQ_A-PAQ_A_Total'].notna() & train_data_cleaned['PAQ_C-PAQ_C_Total'].notna() & (train_data_cleaned['Basic_Demos-Age'] >= 13), 'PAQ_C-PAQ_C_Total'] = np.nan\n",
    "# keep child value is younger than 13\n",
    "train_data_cleaned.loc[train_data_cleaned['PAQ_A-PAQ_A_Total'].notna() & train_data_cleaned['PAQ_C-PAQ_C_Total'].notna() & (train_data_cleaned['Basic_Demos-Age'] < 13), 'PAQ_A-PAQ_A_Total'] = np.nan\n",
    "# merge columns\n",
    "train_data_cleaned['PAQ-PAQ_Total'] = train_data_cleaned['PAQ_A-PAQ_A_Total'].fillna(train_data_cleaned['PAQ_C-PAQ_C_Total'])\n",
    "# drop columns\n",
    "train_data_cleaned = train_data_cleaned.drop(columns = ['PAQ_A-PAQ_A_Total', 'PAQ_C-PAQ_C_Total'])\n",
    "\n",
    "# include aggregate acitgraphy features\n",
    "train_data_cleaned = pd.merge(train_data_cleaned, actigraphy_data, left_on='id', how='left', right_index=True)\n",
    "\n",
    "# Missing Values (might not have to handle completely manually for CATBoost, though it could improve performance) -----------\n",
    "# Drop rows with high missingness (should investigate characteristics of rows with high missingness)\n",
    "thresh = 50\n",
    "percent_missing_per_row = train_data_cleaned.isnull().mean(axis=1) * 100\n",
    "high_missingness_idx = percent_missing_per_row[percent_missing_per_row > thresh].index.values\n",
    "train_data_cleaned = train_data_cleaned.drop(high_missingness_idx)\n",
    "print(f'{len(high_missingness_idx)} rows dropped because {thresh}% or more of the data was missing.')\n",
    "print(f'There are {len(train_data_cleaned)} rows remaining in the train data.')\n",
    "\n",
    "# Drop features with high missingness?\n",
    "print('This is the proportion of data available per feature. It might be wise to drop features with high missingness. We can try both ways though.')\n",
    "display(train_data_cleaned.notna().mean().sort_values())\n",
    "\n",
    "# Impute/interpolate remaining missing values (not necessary for CATBoost)\n",
    "\n",
    "# Convert categorical columns to the correct data type? Since their ordinal, it might work to not convert\n",
    "# use data dictionary to convert features that have type==\"categorical int\" into str dtype\n",
    "\n",
    "# drop rows without target\n",
    "train_data_cleaned = train_data_cleaned.dropna(subset='sii')\n",
    "print(f'Final length of the training dataset: {len(train_data_cleaned)}')"
   ]
  },
  {
   "cell_type": "code",
   "execution_count": 5,
   "metadata": {},
   "outputs": [
    {
     "name": "stdout",
     "output_type": "stream",
     "text": [
      "Regression Model Performance:\n",
      "Mean Squared Error (MSE): 0.5285\n",
      "Root Mean Squared Error (RMSE): 0.7270\n",
      "Mean Absolute Error (MAE): 0.5420\n",
      "R² Score: 0.1236\n"
     ]
    },
    {
     "name": "stderr",
     "output_type": "stream",
     "text": [
      "c:\\Users\\shaun\\anaconda3\\Lib\\site-packages\\xgboost\\core.py:158: UserWarning: [00:11:39] WARNING: C:\\buildkite-agent\\builds\\buildkite-windows-cpu-autoscaling-group-i-0ed59c031377d09b8-1\\xgboost\\xgboost-ci-windows\\src\\learner.cc:740: \n",
      "Parameters: { \"use_label_encoder\" } are not used.\n",
      "\n",
      "  warnings.warn(smsg, UserWarning)\n"
     ]
    },
    {
     "name": "stdout",
     "output_type": "stream",
     "text": [
      "\n",
      "Classification Model Performance:\n",
      "Accuracy: 0.5933\n",
      "\n",
      "Classification Report:\n",
      "              precision    recall  f1-score   support\n",
      "\n",
      "           0       0.69      0.80      0.74       228\n",
      "           1       0.37      0.28      0.32       105\n",
      "           2       0.40      0.36      0.38        45\n",
      "           3       0.33      0.12      0.18         8\n",
      "\n",
      "    accuracy                           0.59       386\n",
      "   macro avg       0.45      0.39      0.40       386\n",
      "weighted avg       0.56      0.59      0.57       386\n",
      "\n"
     ]
    },
    {
     "data": {
      "image/png": "[encoded data removed]",
      "text/plain": [
       "<Figure size 800x600 with 2 Axes>"
      ]
     },
     "metadata": {},
     "output_type": "display_data"
    }
   ],
   "source": [
    "\n",
    "import pandas as pd\n",
    "import numpy as np\n",
    "from sklearn.model_selection import train_test_split\n",
    "from xgboost import XGBRegressor, XGBClassifier\n",
    "from sklearn.metrics import (\n",
    "    mean_squared_error,\n",
    "    mean_absolute_error,\n",
    "    r2_score,\n",
    "    accuracy_score,\n",
    "    classification_report,\n",
    "    confusion_matrix,\n",
    ")\n",
    "import matplotlib.pyplot as plt\n",
    "import seaborn as sns\n",
    "\n",
    "\n",
    "\n",
    "\n",
    "X = train_data_cleaned.drop(columns=['sii', 'id'], errors='ignore')  \n",
    "y = train_data_cleaned['sii']  \n",
    "\n",
    "\n",
    "categorical_cols = X.select_dtypes(include=['object', 'category']).columns.tolist()\n",
    "for col in categorical_cols:\n",
    "    X[col] = X[col].astype('category')\n",
    "\n",
    "\n",
    "X_train_reg, X_val_reg, y_train_reg, y_val_reg = train_test_split(\n",
    "    X, y, test_size=0.2, random_state=42\n",
    ")\n",
    "\n",
    "X_train_clf, X_val_clf, y_train_clf, y_val_clf = X_train_reg, X_val_reg, y_train_reg, y_val_reg\n",
    "\n",
    "\n",
    "y_train_clf = y_train_clf.astype(int)\n",
    "y_val_clf = y_val_clf.astype(int)\n",
    "\n",
    "\n",
    "xgb_reg = XGBRegressor(\n",
    "    objective='reg:squarederror',\n",
    "    n_estimators=100,\n",
    "    enable_categorical=True,\n",
    "    random_state=42,\n",
    ")\n",
    "xgb_reg.fit(X_train_reg, y_train_reg)\n",
    "\n",
    "\n",
    "y_pred_reg = xgb_reg.predict(X_val_reg)\n",
    "\n",
    "\n",
    "mse = mean_squared_error(y_val_reg, y_pred_reg)\n",
    "rmse = np.sqrt(mse)\n",
    "mae = mean_absolute_error(y_val_reg, y_pred_reg)\n",
    "r2 = r2_score(y_val_reg, y_pred_reg)\n",
    "\n",
    "print(\"Regression Model Performance:\")\n",
    "print(f\"Mean Squared Error (MSE): {mse:.4f}\")\n",
    "print(f\"Root Mean Squared Error (RMSE): {rmse:.4f}\")\n",
    "print(f\"Mean Absolute Error (MAE): {mae:.4f}\")\n",
    "print(f\"R² Score: {r2:.4f}\")\n",
    "\n",
    "\n",
    "num_classes = y.nunique()\n",
    "xgb_clf = XGBClassifier(\n",
    "    objective='multi:softmax',\n",
    "    num_class=num_classes,\n",
    "    n_estimators=100,\n",
    "    enable_categorical=True,\n",
    "    use_label_encoder=False,\n",
    "    random_state=42,\n",
    ")\n",
    "xgb_clf.fit(X_train_clf, y_train_clf)\n",
    "\n",
    "\n",
    "y_pred_clf = xgb_clf.predict(X_val_clf)\n",
    "\n",
    "\n",
    "accuracy = accuracy_score(y_val_clf, y_pred_clf)\n",
    "print(\"\\nClassification Model Performance:\")\n",
    "print(f\"Accuracy: {accuracy:.4f}\")\n",
    "\n",
    "print(\"\\nClassification Report:\")\n",
    "print(classification_report(y_val_clf, y_pred_clf))\n",
    "\n",
    "\n",
    "conf_matrix = confusion_matrix(y_val_clf, y_pred_clf)\n",
    "plt.figure(figsize=(8, 6))\n",
    "sns.heatmap(\n",
    "    conf_matrix,\n",
    "    annot=True,\n",
    "    fmt='d',\n",
    "    cmap='Blues',\n",
    "    xticklabels=range(num_classes),\n",
    "    yticklabels=range(num_classes),\n",
    ")\n",
    "plt.title(\"Confusion Matrix\")\n",
    "plt.xlabel(\"Predicted Class\")\n",
    "plt.ylabel(\"True Class\")\n",
    "plt.show()\n"
   ]
  },
  {
   "cell_type": "code",
   "execution_count": 15,
   "metadata": {},
   "outputs": [
    {
     "name": "stdout",
     "output_type": "stream",
     "text": [
      "Weighted Kappa (Quadratic): 0.4102\n"
     ]
    }
   ],
   "source": [
    "from sklearn.metrics import cohen_kappa_score\n",
    "import numpy as np\n",
    "\n",
    "\n",
    "true_labels_kappa = y_val_clf  \n",
    "predicted_labels_kappa = y_pred_clf\n",
    "\n",
    "\n",
    "\n",
    "weighted_kappa = cohen_kappa_score(true_labels_kappa, predicted_labels_kappa, weights='quadratic')\n",
    "\n",
    "print(f\"Weighted Kappa (Quadratic): {weighted_kappa:.4f}\")\n"
   ]
  },
  {
   "cell_type": "code",
   "execution_count": 8,
   "metadata": {},
   "outputs": [
    {
     "name": "stdout",
     "output_type": "stream",
     "text": [
      "\n",
      "Regression Model (as Classification) Performance:\n",
      "Accuracy: 0.5881\n",
      "\n",
      "Regression Model Confusion Matrix:\n"
     ]
    },
    {
     "data": {
      "image/png": "[encoded data removed]",
      "text/plain": [
       "<Figure size 800x600 with 2 Axes>"
      ]
     },
     "metadata": {},
     "output_type": "display_data"
    }
   ],
   "source": [
    "\n",
    "bins = np.arange(-0.5, 4.5, 1)  \n",
    "y_pred_reg_class = np.digitize(y_pred_reg, bins) - 1  \n",
    "\n",
    "\n",
    "accuracy_reg = accuracy_score(y_val_reg, y_pred_reg_class)\n",
    "print(\"\\nRegression Model (as Classification) Performance:\")\n",
    "print(f\"Accuracy: {accuracy_reg:.4f}\")\n",
    "\n",
    "print(\"\\nRegression Model Confusion Matrix:\")\n",
    "conf_matrix_reg = confusion_matrix(y_val_reg, y_pred_reg_class)\n",
    "plt.figure(figsize=(8, 6))\n",
    "sns.heatmap(\n",
    "    conf_matrix_reg,\n",
    "    annot=True,\n",
    "    fmt='d',\n",
    "    cmap='Blues',\n",
    "    xticklabels=range(4),\n",
    "    yticklabels=range(4),\n",
    ")\n",
    "plt.title(\"Regression Confusion Matrix (as Classification)\")\n",
    "plt.xlabel(\"Predicted Class\")\n",
    "plt.ylabel(\"True Class\")\n",
    "plt.show()\n"
   ]
  },
  {
   "cell_type": "code",
   "execution_count": 10,
   "metadata": {},
   "outputs": [
    {
     "name": "stdout",
     "output_type": "stream",
     "text": [
      "Per-Class Metrics:\n",
      "Class 0: Precision=0.7739, Recall=0.6754, F1-Score=0.7213, Support=228\n",
      "Class 1: Precision=0.3939, Recall=0.6190, F1-Score=0.4815, Support=105\n",
      "Class 2: Precision=0.3636, Recall=0.1778, F1-Score=0.2388, Support=45\n",
      "Class 3: Precision=nan, Recall=0.0000, F1-Score=nan, Support=8\n",
      "\n",
      "Overall Metrics:\n",
      "Accuracy: 0.5881\n",
      "Weighted Precision: nan\n",
      "Weighted Recall: 0.5881\n",
      "Weighted F1-Score: nan\n"
     ]
    },
    {
     "name": "stderr",
     "output_type": "stream",
     "text": [
      "C:\\Users\\shaun\\AppData\\Local\\Temp\\ipykernel_6728\\2432366794.py:18: RuntimeWarning: invalid value encountered in divide\n",
      "  precision = true_positives / (true_positives + false_positives)\n"
     ]
    }
   ],
   "source": [
    "import numpy as np\n",
    "\n",
    "\n",
    "conf_matrix = np.array([\n",
    "    [154, 69,  5,  0],\n",
    "    [ 34, 65,  6,  0],\n",
    "    [ 10, 27,  8,  0],\n",
    "    [  1,  4,  3,  0]\n",
    "])\n",
    "\n",
    "\n",
    "true_positives = np.diag(conf_matrix)\n",
    "false_positives = np.sum(conf_matrix, axis=0) - true_positives\n",
    "false_negatives = np.sum(conf_matrix, axis=1) - true_positives\n",
    "true_negatives = np.sum(conf_matrix) - (true_positives + false_positives + false_negatives)\n",
    "\n",
    "\n",
    "precision = true_positives / (true_positives + false_positives)\n",
    "recall = true_positives / (true_positives + false_negatives)\n",
    "f1_score = 2 * (precision * recall) / (precision + recall)\n",
    "\n",
    "\n",
    "accuracy = np.sum(true_positives) / np.sum(conf_matrix)\n",
    "\n",
    "\n",
    "support = np.sum(conf_matrix, axis=1)\n",
    "weighted_precision = np.sum(precision * support) / np.sum(support)\n",
    "weighted_recall = np.sum(recall * support) / np.sum(support)\n",
    "weighted_f1 = np.sum(f1_score * support) / np.sum(support)\n",
    "\n",
    "\n",
    "print(\"Per-Class Metrics:\")\n",
    "for i, (p, r, f, s) in enumerate(zip(precision, recall, f1_score, support)):\n",
    "    print(f\"Class {i}: Precision={p:.4f}, Recall={r:.4f}, F1-Score={f:.4f}, Support={s}\")\n",
    "\n",
    "print(\"\\nOverall Metrics:\")\n",
    "print(f\"Accuracy: {accuracy:.4f}\")\n",
    "print(f\"Weighted Precision: {weighted_precision:.4f}\")\n",
    "print(f\"Weighted Recall: {weighted_recall:.4f}\")\n",
    "print(f\"Weighted F1-Score: {weighted_f1:.4f}\")\n"
   ]
  },
  {
   "cell_type": "code",
   "execution_count": 14,
   "metadata": {},
   "outputs": [
    {
     "name": "stdout",
     "output_type": "stream",
     "text": [
      "Weighted Kappa (Quadratic): 0.3992\n"
     ]
    }
   ],
   "source": [
    "from sklearn.metrics import cohen_kappa_score\n",
    "import numpy as np\n",
    "\n",
    "\n",
    "true_labels_kappa = y_val_reg  \n",
    "predicted_labels_kappa = y_pred_reg\n",
    "\n",
    "\n",
    "bins = np.arange(-0.5, 4.5, 1)  \n",
    "predicted_labels_binned = np.digitize(predicted_labels_kappa, bins) - 1  \n",
    "\n",
    "\n",
    "weighted_kappa = cohen_kappa_score(true_labels_kappa, predicted_labels_binned, weights='quadratic')\n",
    "\n",
    "print(f\"Weighted Kappa (Quadratic): {weighted_kappa:.4f}\")\n"
   ]
  }
 ],
 "metadata": {
  "kernelspec": {
   "display_name": "base",
   "language": "python",
   "name": "python3"
  },
  "language_info": {
   "codemirror_mode": {
    "name": "ipython",
    "version": 3
   },
   "file_extension": ".py",
   "mimetype": "text/x-python",
   "name": "python",
   "nbconvert_exporter": "python",
   "pygments_lexer": "ipython3",
   "version": "3.12.4"
  }
 },
 "nbformat": 4,
 "nbformat_minor": 2
}
